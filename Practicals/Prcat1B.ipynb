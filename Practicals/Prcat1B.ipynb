{
 "cells": [
  {
   "cell_type": "code",
   "execution_count": 1,
   "id": "1aef73d0-3ca5-4ae9-b4cd-8e54a66c2419",
   "metadata": {},
   "outputs": [
    {
     "name": "stdout",
     "output_type": "stream",
     "text": [
      "Collecting pycryptodome\n",
      "  Downloading pycryptodome-3.20.0-cp35-abi3-win_amd64.whl.metadata (3.4 kB)\n",
      "Downloading pycryptodome-3.20.0-cp35-abi3-win_amd64.whl (1.8 MB)\n",
      "   ---------------------------------------- 0.0/1.8 MB ? eta -:--:--\n",
      "   ---------------------------------------- 0.0/1.8 MB ? eta -:--:--\n",
      "   -- ------------------------------------- 0.1/1.8 MB 1.3 MB/s eta 0:00:02\n",
      "   ---- ----------------------------------- 0.2/1.8 MB 1.7 MB/s eta 0:00:01\n",
      "   ------- -------------------------------- 0.3/1.8 MB 2.0 MB/s eta 0:00:01\n",
      "   ---------- ----------------------------- 0.5/1.8 MB 2.6 MB/s eta 0:00:01\n",
      "   ------------- -------------------------- 0.6/1.8 MB 2.8 MB/s eta 0:00:01\n",
      "   ----------------- ---------------------- 0.8/1.8 MB 2.9 MB/s eta 0:00:01\n",
      "   ----------------------- ---------------- 1.0/1.8 MB 3.3 MB/s eta 0:00:01\n",
      "   ------------------------------- -------- 1.4/1.8 MB 4.0 MB/s eta 0:00:01\n",
      "   -------------------------------------- - 1.7/1.8 MB 4.2 MB/s eta 0:00:01\n",
      "   ---------------------------------------- 1.8/1.8 MB 4.0 MB/s eta 0:00:00\n",
      "Installing collected packages: pycryptodome\n",
      "Successfully installed pycryptodome-3.20.0\n",
      "Note: you may need to restart the kernel to use updated packages.\n"
     ]
    }
   ],
   "source": [
    "pip install pycryptodome"
   ]
  },
  {
   "cell_type": "code",
   "execution_count": 1,
   "id": "cccc1818-0db4-442c-9b6b-74f23d3d9628",
   "metadata": {},
   "outputs": [],
   "source": [
    "from Crypto.PublicKey import RSA\n",
    "from Crypto.Cipher import PKCS1_OAEP"
   ]
  },
  {
   "cell_type": "code",
   "execution_count": 2,
   "id": "9626f777-072c-4b76-b397-671086ebcec2",
   "metadata": {},
   "outputs": [],
   "source": [
    "class RSAKeyGenerator:\n",
    "    def __init__(self,key_size = 2048):\n",
    "        self.key_size = key_size\n",
    "    def generate_keys(self):\n",
    "        key_pair = RSA.generate(self.key_size)\n",
    "\n",
    "        public_key = key_pair.publickey().export_key()\n",
    "        private_key = key_pair.export_key()\n",
    "\n",
    "        return private_key,public_key\n"
   ]
  },
  {
   "cell_type": "code",
   "execution_count": 5,
   "id": "34e4cb41-49f8-41d4-9cc5-fb6f00b83700",
   "metadata": {},
   "outputs": [],
   "source": [
    "class RSAClient:\n",
    "    def __init__(self):\n",
    "        self.key_generator = RSAKeyGenerator()\n",
    "\n",
    "    def encrypt_message(self,public_key,message):\n",
    "\n",
    "        recipient_key = RSA.import_key(public_key)\n",
    "\n",
    "        cipher_rsa = PKCS1_OAEP.new(recipient_key)\n",
    "\n",
    "        encrypted_message = cipher_rsa.encrypt(message.encode())\n",
    "\n",
    "        return encrypted_message\n",
    "\n",
    "    def decrypt_message(self,private_key,encrypted_message):\n",
    "\n",
    "        private_key = RSA.import_key(private_key)\n",
    "\n",
    "        cipher_rsa = PKCS1_OAEP.new(private_key)\n",
    "\n",
    "        decrypted_message = cipher_rsa.decrypt(encrypted_message)\n",
    "\n",
    "        return decrypted_message.decode()"
   ]
  },
  {
   "cell_type": "code",
   "execution_count": 7,
   "id": "c3ea8e00-3c31-46fe-9ad4-f1342815345f",
   "metadata": {},
   "outputs": [
    {
     "name": "stdout",
     "output_type": "stream",
     "text": [
      "Original Message =  Hello, this is a test message\n",
      "Encrypted Message =  b'[\\xfdZ\\x89\\xfeu`b\\x9dV\\x17x&\\x10\\x9c\\rn\\xce\\x7fo\\r\\xccf\\xb4s\\xcf\\xd5\\xa7z\\xa7\\x07Va\\xbe\\xca\\x1da\\x83\\xc7f\\x0cC\\xf7\\xefy\\x19<\\xb6=D\\xaa\\t\\xa2\\x9e\\xe0\\x82\\x87\\xc1\\xea]\\x18\\xea\\xadMi\\xe3\\'|\\xbd,\\x15\\x15\\x88B\\xb5\\xa6\\x03*w\\xb7\\x17\\xc6\\xc3\\xaa\\x94T%\\x02\\xe0\\xcf\\xd6\\xc0\\xbffW|E\\xbeO\\x1e\\x1f@\\xc27\\xf8>\\xfd\\xc1^\\xbd\\x92\\xc3\\xe9G\\xd6\\x030\\t\\x89D\\xb6\\xa3\\xaf\\xa5D\\xcab\\x9b\\x97\\x89\\xa3\\xe0u\\xaa\\xa2\\n\\x8e\\xadi\\x04\\xe2Cm\\x9d= \\x05\\xa8\\xa8\\x1cW\\x0cOt\\x91O\\xfd\\xe93P\\xb3\\xa4\\x0c\\xa8\\x0f\\x89\\x8e\\xb9>\\xf9\\r\\x14\\x9b_\\xa2\\xf6\\x96:\\xe0V\\xf8\\'^\\xed\\xea\\xcc\\x8a[?\\xeb%-7\\xe4\\x84\\xc5\\x95:5\\xd1i\\xc1\\x8c\\x8f\\xa80\\x82\\xca-\"8\\xfaz\\xef\\x86I\\x9f\\xe5\\x81\\x8c_\\xc8\\xf9\\xfftM\\xac\\xe4\\x83_\\x13`\\x8a\\x94m\\xe0\\xa5\\x0e;\\xdd\\xd7\\x90_y\\xfd6cMcl\\xfd<U\\xd6\\xd3\\xd3'\n",
      "Decrypted Message =  Hello, this is a test message\n"
     ]
    }
   ],
   "source": [
    "if __name__ == \"__main__\":\n",
    "\n",
    "    client = RSAClient()\n",
    "\n",
    "    private_key, public_key = client.key_generator.generate_keys()\n",
    "\n",
    "    message = \"Hello, this is a test message\"\n",
    "\n",
    "    encrypted_message = client.encrypt_message(public_key,message)\n",
    "\n",
    "    decrypted_message = client.decrypt_message(private_key,encrypted_message)\n",
    "\n",
    "    print(\"Original Message = \",message)\n",
    "    print(\"Encrypted Message = \",encrypted_message)\n",
    "    print(\"Decrypted Message = \",decrypted_message)"
   ]
  },
  {
   "cell_type": "code",
   "execution_count": null,
   "id": "265bad0a-f29b-4d2e-8807-720033d85f10",
   "metadata": {},
   "outputs": [],
   "source": []
  }
 ],
 "metadata": {
  "kernelspec": {
   "display_name": "Python 3 (ipykernel)",
   "language": "python",
   "name": "python3"
  },
  "language_info": {
   "codemirror_mode": {
    "name": "ipython",
    "version": 3
   },
   "file_extension": ".py",
   "mimetype": "text/x-python",
   "name": "python",
   "nbconvert_exporter": "python",
   "pygments_lexer": "ipython3",
   "version": "3.12.3"
  }
 },
 "nbformat": 4,
 "nbformat_minor": 5
}
