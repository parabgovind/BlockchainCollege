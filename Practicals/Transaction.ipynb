{
 "cells": [
  {
   "cell_type": "code",
   "execution_count": 1,
   "id": "6cded824-c485-4b31-a8b5-197ea7804f57",
   "metadata": {},
   "outputs": [],
   "source": [
    "import hashlib\n",
    "import json\n",
    "from time import time"
   ]
  },
  {
   "cell_type": "code",
   "execution_count": 2,
   "id": "bf7b1b79-a0ed-41d4-9b7d-aea3b1cb0755",
   "metadata": {},
   "outputs": [],
   "source": [
    "class Transaction:\n",
    "    def __init__(self,sender,recipient,amount):\n",
    "        self.sender = sender\n",
    "        self.recipient = recipient\n",
    "        self.amount = amount\n",
    "        self.timestamp = time()\n",
    "\n",
    "    def to_dict(self):\n",
    "        return {\n",
    "            'sender': self.sender,\n",
    "            'recipient': self.recipient,\n",
    "            'amount': self.amount,\n",
    "            'timestamp': self.timestamp\n",
    "        }\n",
    "\n",
    "    def hash_transaction(self):\n",
    "        transaction_string = json.dumps(self.to_dict, sort_keys=True)\n",
    "        return hashlib.sha256(transaction_string.encode()).hexdigest()"
   ]
  },
  {
   "cell_type": "code",
   "execution_count": 3,
   "id": "70ed218c-ada4-4b74-afc7-d80c26aa94d2",
   "metadata": {},
   "outputs": [],
   "source": [
    "class Blockchain:\n",
    "    def __init__(self):\n",
    "        self.chain = []\n",
    "        self.pending_transactions = []\n",
    "\n",
    "        self.create_block(previous_hash = '1')\n",
    "\n",
    "    def create_block(self,previous_hash):\n",
    "        block = {\n",
    "            'index': len(self.chain)+1,\n",
    "            'timestamp': time(),\n",
    "            'transactions': self.pending_transactions,\n",
    "            'previous_hash': previous_hash or self.hash_block(self.chain[-1])\n",
    "        }\n",
    "        self.pending_transactions = []\n",
    "        self.chain.append(block)\n",
    "\n",
    "    def add_transaction(self,transaction):\n",
    "        self.pending_transactions.append(transaction.to_dict())\n",
    "\n",
    "    def hash_block(self,block):\n",
    "        block_string = json.dumps(block,sort_keys = True)\n",
    "        return hashlib.sha256(block_string.encode()).hexdigest()"
   ]
  },
  {
   "cell_type": "code",
   "execution_count": 5,
   "id": "37c4b1e4-3334-48d9-a581-0cbb536432f4",
   "metadata": {},
   "outputs": [
    {
     "name": "stdout",
     "output_type": "stream",
     "text": [
      "Blockchain: \n",
      "[\n",
      "    {\n",
      "        \"index\": 1,\n",
      "        \"timestamp\": 1713587170.5448039,\n",
      "        \"transactions\": [],\n",
      "        \"previous_hash\": \"1\"\n",
      "    },\n",
      "    {\n",
      "        \"index\": 2,\n",
      "        \"timestamp\": 1713587170.5448039,\n",
      "        \"transactions\": [\n",
      "            {\n",
      "                \"sender\": \"Alice\",\n",
      "                \"recipient\": \"Bob\",\n",
      "                \"amount\": 10,\n",
      "                \"timestamp\": 1713587170.5448039\n",
      "            }\n",
      "        ],\n",
      "        \"previous_hash\": \"1bb83a8927066967e6984611175b01897543f9e617681c812bb325c932cae7b0\"\n",
      "    }\n",
      "]\n"
     ]
    }
   ],
   "source": [
    "if __name__ == \"__main__\":\n",
    "\n",
    "    blockchain = Blockchain()\n",
    "\n",
    "    transcation  = Transaction(sender=\"Alice\",recipient=\"Bob\",amount=10)\n",
    "\n",
    "    blockchain.add_transaction(transcation)\n",
    "\n",
    "    blockchain.create_block(previous_hash = None)\n",
    "\n",
    "    print(\"Blockchain: \")\n",
    "    print(json.dumps(blockchain.chain, indent = 4))"
   ]
  },
  {
   "cell_type": "code",
   "execution_count": null,
   "id": "08d9c4d8-64d1-4fc1-b877-58a5192b7252",
   "metadata": {},
   "outputs": [],
   "source": []
  }
 ],
 "metadata": {
  "kernelspec": {
   "display_name": "Python 3 (ipykernel)",
   "language": "python",
   "name": "python3"
  },
  "language_info": {
   "codemirror_mode": {
    "name": "ipython",
    "version": 3
   },
   "file_extension": ".py",
   "mimetype": "text/x-python",
   "name": "python",
   "nbconvert_exporter": "python",
   "pygments_lexer": "ipython3",
   "version": "3.12.3"
  }
 },
 "nbformat": 4,
 "nbformat_minor": 5
}
