{
 "cells": [
  {
   "cell_type": "code",
   "execution_count": 1,
   "id": "67c0cd3b",
   "metadata": {},
   "outputs": [],
   "source": [
    "import hashlib\n",
    "import json\n",
    "from time import time"
   ]
  },
  {
   "cell_type": "code",
   "execution_count": 2,
   "id": "21467c41",
   "metadata": {},
   "outputs": [],
   "source": [
    "class Blockchain:\n",
    "    def __init__(self):\n",
    "        self.chain = []\n",
    "        self.pending_transactions = []\n",
    "\n",
    "        self.create_block(previous_hash = '1')\n",
    "\n",
    "    def create_block(self,previous_hash):\n",
    "        block = {\n",
    "            'index': len(self.chain)+1,\n",
    "            'timestamp': time(),\n",
    "            'transactions': self.pending_transactions,\n",
    "            'previous_hash': previous_hash or self.hash_block(self.chain[-1])\n",
    "        }\n",
    "        self.pending_transactions = []\n",
    "        self.chain.append(block)\n",
    "\n",
    "    def hash_block(self,block):\n",
    "        block_string = json.dumps(block,sort_keys = True)\n",
    "        return hashlib.sha256(block_string.encode()).hexdigest()"
   ]
  },
  {
   "cell_type": "code",
   "execution_count": 3,
   "id": "fdd4d9be",
   "metadata": {},
   "outputs": [
    {
     "name": "stdout",
     "output_type": "stream",
     "text": [
      "Blockchain: \n",
      "[\n",
      "    {\n",
      "        \"index\": 1,\n",
      "        \"timestamp\": 1714709377.308939,\n",
      "        \"transactions\": [],\n",
      "        \"previous_hash\": \"1\"\n",
      "    }\n",
      "]\n"
     ]
    }
   ],
   "source": [
    "if __name__ == \"__main__\":\n",
    "\n",
    "    blockchain = Blockchain()\n",
    "\n",
    "    print(\"Blockchain: \")\n",
    "    print(json.dumps(blockchain.chain, indent = 4))"
   ]
  },
  {
   "cell_type": "code",
   "execution_count": null,
   "id": "d3cd5e27",
   "metadata": {},
   "outputs": [],
   "source": []
  }
 ],
 "metadata": {
  "kernelspec": {
   "display_name": "Python 3 (ipykernel)",
   "language": "python",
   "name": "python3"
  },
  "language_info": {
   "codemirror_mode": {
    "name": "ipython",
    "version": 3
   },
   "file_extension": ".py",
   "mimetype": "text/x-python",
   "name": "python",
   "nbconvert_exporter": "python",
   "pygments_lexer": "ipython3",
   "version": "3.9.12"
  }
 },
 "nbformat": 4,
 "nbformat_minor": 5
}
